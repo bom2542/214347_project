{
  "nbformat": 4,
  "nbformat_minor": 0,
  "metadata": {
    "colab": {
      "name": "Copy of project.ipynb",
      "provenance": [],
      "collapsed_sections": [],
      "include_colab_link": true
    },
    "kernelspec": {
      "name": "python3",
      "display_name": "Python 3"
    }
  },
  "cells": [
    {
      "cell_type": "markdown",
      "metadata": {
        "id": "view-in-github",
        "colab_type": "text"
      },
      "source": [
        "<a href=\"https://colab.research.google.com/github/bom2542/MushroomClassification-Ai_2021/blob/main/project.ipynb\" target=\"_parent\"><img src=\"https://colab.research.google.com/assets/colab-badge.svg\" alt=\"Open In Colab\"/></a>"
      ]
    },
    {
      "cell_type": "code",
      "metadata": {
        "id": "n88GxlvLK5ZT"
      },
      "source": [
        "from google.colab import drive\r\n",
        "drive.mount('/content/drive')"
      ],
      "execution_count": null,
      "outputs": []
    },
    {
      "cell_type": "code",
      "metadata": {
        "id": "_HBFZfMdLZz1"
      },
      "source": [
        "import matplotlib.pyplot as plt\r\n",
        "import numpy as np\r\n",
        "import os\r\n",
        "import tensorflow as tf\r\n",
        "\r\n",
        "from tensorflow.keras.preprocessing import image_dataset_from_directory\r\n",
        "\r\n",
        "from sklearn.metrics import classification_report"
      ],
      "execution_count": null,
      "outputs": []
    },
    {
      "cell_type": "code",
      "metadata": {
        "id": "We3K5PdjLboY"
      },
      "source": [
        "!unzip -q /content/drive/MyDrive/mushroom_project/Muchrooms12.zip"
      ],
      "execution_count": null,
      "outputs": []
    },
    {
      "cell_type": "code",
      "metadata": {
        "id": "zw5zHHBRLdcd"
      },
      "source": [
        "import pathlib\r\n",
        "data_dir = pathlib.Path('/content/Muchrooms12') #change 2\r\n",
        "\r\n",
        "BATCH_SIZE = 32\r\n",
        "IMG_SIZE = (224, 224) # change 3 depend on your input model\r\n",
        "\r\n",
        "train_dataset = tf.keras.preprocessing.image_dataset_from_directory(\r\n",
        "  data_dir,\r\n",
        "  validation_split=0.2,\r\n",
        "  subset=\"training\",\r\n",
        "  seed=123,\r\n",
        "  image_size=IMG_SIZE,\r\n",
        "  batch_size=BATCH_SIZE)\r\n",
        "\r\n",
        "validation_dataset = tf.keras.preprocessing.image_dataset_from_directory(\r\n",
        "  data_dir,\r\n",
        "  validation_split=0.2,\r\n",
        "  subset=\"validation\",\r\n",
        "  seed=123,\r\n",
        "  image_size=IMG_SIZE,\r\n",
        "  batch_size=BATCH_SIZE)"
      ],
      "execution_count": null,
      "outputs": []
    },
    {
      "cell_type": "code",
      "metadata": {
        "id": "4LoHvZs4Ldl-"
      },
      "source": [
        "class_names = train_dataset.class_names\r\n",
        "print(class_names)"
      ],
      "execution_count": null,
      "outputs": []
    },
    {
      "cell_type": "code",
      "metadata": {
        "id": "Dmxt0mZbLdul"
      },
      "source": [
        "plt.figure(figsize=(14, 14))\r\n",
        "for images, labels in train_dataset.take(1):\r\n",
        "  for i in range(25):\r\n",
        "    ax = plt.subplot(5, 5, i + 1)\r\n",
        "    plt.imshow(images[i].numpy().astype(\"uint8\"))\r\n",
        "    plt.title(class_names[labels[i]])\r\n",
        "    plt.axis(\"off\")"
      ],
      "execution_count": null,
      "outputs": []
    },
    {
      "cell_type": "code",
      "metadata": {
        "id": "Ih-xIT82Ldxl"
      },
      "source": [
        "val_batches = tf.data.experimental.cardinality(validation_dataset)\r\n",
        "test_dataset = validation_dataset.take(val_batches // 2)\r\n",
        "validation_dataset = validation_dataset.skip(val_batches // 2)"
      ],
      "execution_count": null,
      "outputs": []
    },
    {
      "cell_type": "code",
      "metadata": {
        "id": "6eszMkIMLd0T"
      },
      "source": [
        "print('Number of validation batches: %d' % tf.data.experimental.cardinality(validation_dataset))\r\n",
        "print('Number of test batches: %d' % tf.data.experimental.cardinality(test_dataset))"
      ],
      "execution_count": null,
      "outputs": []
    },
    {
      "cell_type": "code",
      "metadata": {
        "id": "qNmaAIV4Ld22"
      },
      "source": [
        "AUTOTUNE = tf.data.AUTOTUNE\r\n",
        "\r\n",
        "train_dataset = train_dataset.prefetch(buffer_size=AUTOTUNE)\r\n",
        "validation_dataset = validation_dataset.prefetch(buffer_size=AUTOTUNE)\r\n",
        "test_dataset = test_dataset.prefetch(buffer_size=AUTOTUNE)"
      ],
      "execution_count": null,
      "outputs": []
    },
    {
      "cell_type": "code",
      "metadata": {
        "id": "IWIErdpnLd5a"
      },
      "source": [
        "# หมุนภาพ\r\n",
        "data_augmentation = tf.keras.Sequential([\r\n",
        "  tf.keras.layers.experimental.preprocessing.RandomFlip('horizontal'),\r\n",
        "  tf.keras.layers.experimental.preprocessing.RandomRotation(0.2),\r\n",
        "])"
      ],
      "execution_count": null,
      "outputs": []
    },
    {
      "cell_type": "code",
      "metadata": {
        "id": "S3WjBWvlLd77"
      },
      "source": [
        "for image, _ in train_dataset.take(1):\r\n",
        "  plt.figure(figsize=(10, 10))\r\n",
        "  first_image = image[0]\r\n",
        "  for i in range(9):\r\n",
        "    ax = plt.subplot(3, 3, i + 1)\r\n",
        "    augmented_image = data_augmentation(tf.expand_dims(first_image, 0))\r\n",
        "    plt.imshow(augmented_image[0] / 255)\r\n",
        "    plt.axis('off')"
      ],
      "execution_count": null,
      "outputs": []
    },
    {
      "cell_type": "code",
      "metadata": {
        "id": "Bz5JKeQDLd-W"
      },
      "source": [
        "preprocess_input = tf.keras.applications.mobilenet_v2.preprocess_input\r\n",
        "\r\n",
        "rescale = tf.keras.layers.experimental.preprocessing.Rescaling(1./255, offset= -1)"
      ],
      "execution_count": null,
      "outputs": []
    },
    {
      "cell_type": "code",
      "metadata": {
        "id": "goa4r8c0LeA2"
      },
      "source": [
        "# Create the base model from the pre-trained model MobileNet V2\r\n",
        "# https://www.tensorflow.org/api_docs/python/tf/keras/applications?hl=th\r\n",
        "IMG_SHAPE = IMG_SIZE + (3,)\r\n",
        "base_model = tf.keras.applications.MobileNetV2(input_shape=IMG_SHAPE, # change 4\r\n",
        "                                               include_top=False,\r\n",
        "                                               weights='imagenet')"
      ],
      "execution_count": null,
      "outputs": []
    },
    {
      "cell_type": "code",
      "metadata": {
        "id": "F01JDvVQLeDi"
      },
      "source": [
        "image_batch, label_batch = next(iter(train_dataset))\r\n",
        "feature_batch = base_model(image_batch)\r\n",
        "print(feature_batch.shape)"
      ],
      "execution_count": null,
      "outputs": []
    },
    {
      "cell_type": "code",
      "metadata": {
        "id": "DlOSH2KqLeF9"
      },
      "source": [
        "# default\r\n",
        "base_model.trainable = False"
      ],
      "execution_count": null,
      "outputs": []
    },
    {
      "cell_type": "code",
      "metadata": {
        "id": "AdiDk-x1LeIm"
      },
      "source": [
        "# Let's take a look at the base model architecture\r\n",
        "base_model.summary()"
      ],
      "execution_count": null,
      "outputs": []
    },
    {
      "cell_type": "code",
      "metadata": {
        "id": "y_dZzZtRLeK-"
      },
      "source": [
        "# Let's take a look at the base model architecture\r\n",
        "base_model.summary()"
      ],
      "execution_count": null,
      "outputs": []
    },
    {
      "cell_type": "code",
      "metadata": {
        "id": "7mAGRKyDLeN1"
      },
      "source": [
        "prediction_layer = tf.keras.layers.Dense(12) # Dense(4) is classifier กี่ class \r\n",
        "prediction_batch = prediction_layer(feature_batch_average)\r\n",
        "print(prediction_batch.shape)"
      ],
      "execution_count": null,
      "outputs": []
    },
    {
      "cell_type": "code",
      "metadata": {
        "id": "FXqe6JjPLeQv"
      },
      "source": [
        "#input\r\n",
        "inputs = tf.keras.Input(shape=(224, 224, 3)) #change 5 depend on your model that you use \r\n",
        "\r\n",
        "x = data_augmentation(inputs)\r\n",
        "x = preprocess_input(x)\r\n",
        "x = base_model(x, training=False)\r\n",
        "x = global_average_layer(x)\r\n",
        "x = tf.keras.layers.Dropout(0.2)(x) #Dropout(0.2) = Dropout 20%\r\n",
        "\r\n",
        "#output\r\n",
        "outputs = prediction_layer(x)\r\n",
        "\r\n",
        "#model\r\n",
        "model = tf.keras.Model(inputs, outputs)"
      ],
      "execution_count": null,
      "outputs": []
    },
    {
      "cell_type": "code",
      "metadata": {
        "id": "G01dEKP5LeTE"
      },
      "source": [
        "base_learning_rate = 0.0001\r\n",
        "model.compile(optimizer=tf.keras.optimizers.Adam(lr=base_learning_rate),\r\n",
        "              loss=tf.keras.losses.SparseCategoricalCrossentropy(from_logits=True),\r\n",
        "              metrics=['accuracy'])"
      ],
      "execution_count": null,
      "outputs": []
    },
    {
      "cell_type": "code",
      "metadata": {
        "id": "XR1rfvY9LeV5"
      },
      "source": [
        "model.summary()"
      ],
      "execution_count": null,
      "outputs": []
    },
    {
      "cell_type": "code",
      "metadata": {
        "id": "eRxnixLpLeYc"
      },
      "source": [
        "len(model.trainable_variables)"
      ],
      "execution_count": null,
      "outputs": []
    },
    {
      "cell_type": "code",
      "metadata": {
        "id": "I7cboAWQLebR"
      },
      "source": [
        "initial_epochs = 10\r\n",
        "\r\n",
        "history = model.fit(train_dataset,\r\n",
        "                    epochs=initial_epochs,\r\n",
        "                    validation_data=validation_dataset)\r\n",
        "\r\n",
        "#if val_accuracy > accuracy = Overfitting"
      ],
      "execution_count": null,
      "outputs": []
    },
    {
      "cell_type": "code",
      "metadata": {
        "id": "mhtvpY0RLeeB"
      },
      "source": [
        "acc = history.history['accuracy']\r\n",
        "val_acc = history.history['val_accuracy']\r\n",
        "\r\n",
        "loss = history.history['loss']\r\n",
        "val_loss = history.history['val_loss']\r\n",
        "\r\n",
        "plt.figure(figsize=(8, 8))\r\n",
        "plt.subplot(2, 1, 1)\r\n",
        "plt.plot(acc, label='Training Accuracy')\r\n",
        "plt.plot(val_acc, label='Validation Accuracy')\r\n",
        "plt.legend(loc='lower right')\r\n",
        "plt.ylabel('Accuracy')\r\n",
        "plt.ylim([min(plt.ylim()),1])\r\n",
        "plt.title('Training and Validation Accuracy')\r\n",
        "\r\n",
        "plt.subplot(2, 1, 2)\r\n",
        "plt.plot(loss, label='Training Loss')\r\n",
        "plt.plot(val_loss, label='Validation Loss')\r\n",
        "plt.legend(loc='upper right')\r\n",
        "plt.ylabel('Cross Entropy')\r\n",
        "plt.ylim([0,2.0])\r\n",
        "plt.title('Training and Validation Loss')\r\n",
        "plt.xlabel('epoch')\r\n",
        "plt.show()\r\n",
        "#Training and Validation Accuracy: เส้นสีส้ม must under the blue line"
      ],
      "execution_count": null,
      "outputs": []
    },
    {
      "cell_type": "code",
      "metadata": {
        "id": "awZS_zAELego"
      },
      "source": [
        "base_model.trainable = True\r\n",
        "\r\n",
        "# Let's take a look to see how many layers are in the base model\r\n",
        "print(\"Number of layers in the base model: \", len(base_model.layers))\r\n",
        "\r\n",
        "# Fine-tune from this layer onwards\r\n",
        "fine_tune_at = 100\r\n",
        "\r\n",
        "# Freeze all the layers before the `fine_tune_at` layer\r\n",
        "for layer in base_model.layers[:fine_tune_at]:\r\n",
        "  layer.trainable =  False"
      ],
      "execution_count": null,
      "outputs": []
    },
    {
      "cell_type": "code",
      "metadata": {
        "id": "CVTWa9vWLejR"
      },
      "source": [
        "model.compile(optimizer=tf.keras.optimizers.Adam(lr=base_learning_rate/10),\r\n",
        "              loss=tf.keras.losses.SparseCategoricalCrossentropy(from_logits=True),\r\n",
        "              metrics=['accuracy'])"
      ],
      "execution_count": null,
      "outputs": []
    },
    {
      "cell_type": "code",
      "metadata": {
        "id": "TwAiaA6kLemG"
      },
      "source": [
        "model.summary()"
      ],
      "execution_count": null,
      "outputs": []
    },
    {
      "cell_type": "code",
      "metadata": {
        "id": "FJ9JedRoLeoe"
      },
      "source": [
        "len(model.trainable_variables)"
      ],
      "execution_count": null,
      "outputs": []
    },
    {
      "cell_type": "code",
      "metadata": {
        "id": "tw0jNOxVLeq2"
      },
      "source": [
        "fine_tune_epochs = 10 #10\r\n",
        "total_epochs =  initial_epochs + fine_tune_epochs\r\n",
        "\r\n",
        "history_fine = model.fit(train_dataset,\r\n",
        "                         epochs=total_epochs,\r\n",
        "                         initial_epoch=history.epoch[-1],\r\n",
        "                         validation_data=validation_dataset)"
      ],
      "execution_count": null,
      "outputs": []
    },
    {
      "cell_type": "code",
      "metadata": {
        "id": "e_svRN_hMLbR"
      },
      "source": [
        "acc += history_fine.history['accuracy']\r\n",
        "val_acc += history_fine.history['val_accuracy']\r\n",
        "\r\n",
        "loss += history_fine.history['loss']\r\n",
        "val_loss += history_fine.history['val_loss']"
      ],
      "execution_count": null,
      "outputs": []
    },
    {
      "cell_type": "code",
      "metadata": {
        "id": "LjzL5zmaMLii"
      },
      "source": [
        "plt.figure(figsize=(8, 8))\r\n",
        "plt.subplot(2, 1, 1)\r\n",
        "plt.plot(acc, label='Training Accuracy')\r\n",
        "plt.plot(val_acc, label='Validation Accuracy')\r\n",
        "plt.ylim([0.0, 1])\r\n",
        "plt.plot([initial_epochs-1,initial_epochs-1],\r\n",
        "          plt.ylim(), label='Start Fine Tuning')\r\n",
        "plt.legend(loc='lower right')\r\n",
        "plt.title('Training and Validation Accuracy')\r\n",
        "\r\n",
        "plt.subplot(2, 1, 2)\r\n",
        "plt.plot(loss, label='Training Loss')\r\n",
        "plt.plot(val_loss, label='Validation Loss')\r\n",
        "plt.ylim([0, 2.0])\r\n",
        "plt.plot([initial_epochs-1,initial_epochs-1],\r\n",
        "         plt.ylim(), label='Start Fine Tuning')\r\n",
        "plt.legend(loc='upper right')\r\n",
        "plt.title('Training and Validation Loss')\r\n",
        "plt.xlabel('epoch')\r\n",
        "plt.show()"
      ],
      "execution_count": null,
      "outputs": []
    },
    {
      "cell_type": "code",
      "metadata": {
        "id": "upkKcG0BMLl0"
      },
      "source": [
        "loss, accuracy = model.evaluate(test_dataset) \r\n",
        "\r\n",
        "print('Test accuracy :', accuracy)"
      ],
      "execution_count": null,
      "outputs": []
    },
    {
      "cell_type": "code",
      "metadata": {
        "id": "Ga4seFm0MLoZ"
      },
      "source": [
        "model_name = 'keras_pretrained_mushroom12_model.h5'\r\n",
        "model_path = os.path.join('/content/drive/MyDrive/mushroom_project/mushrooms12_h5_pretrain_model/', model_name)\r\n",
        "model.save(model_path)\r\n",
        "print('Saved trained model at %s ' % model_path)\r\n"
      ],
      "execution_count": null,
      "outputs": []
    },
    {
      "cell_type": "code",
      "metadata": {
        "id": "GDjRiIPuMLrE"
      },
      "source": [
        "# to make predictions\r\n",
        "import numpy as np\r\n",
        "import os\r\n",
        "import tensorflow as tf\r\n",
        "from keras.preprocessing import image\r\n",
        "path_img = '/content/drive/MyDrive/mushroom_project/test/12.jpg'\r\n",
        "test_image = image.load_img(path_img, target_size = (224, 224)) # ขนาดต้องเท่ากับตัว model \r\n",
        "\r\n",
        "test_image = image.img_to_array(test_image)\r\n",
        "test_image = np.expand_dims(test_image, axis = 0)\r\n",
        "\r\n",
        "# load Model\r\n",
        "from keras.models import load_model\r\n",
        "\r\n",
        "model_name = 'keras_pretrained_mushroom12_model.h5' # change\r\n",
        "model_path = os.path.join('/content/drive/MyDrive/mushroom_project/mushrooms12_h5_pretrain_model/', model_name) #change\r\n",
        "model = load_model(model_path)\r\n",
        "\r\n",
        "result = model.predict(test_image)\r\n",
        "score = tf.nn.softmax(result[0])\r\n",
        "print(\"{} with a {:.2f}% confidence.\".format(class_names[np.argmax(score)], 100 * np.max(score)))\r\n",
        "\r\n",
        "from IPython.display import Image\r\n",
        "Image(path_img)"
      ],
      "execution_count": null,
      "outputs": []
    },
    {
      "cell_type": "code",
      "metadata": {
        "id": "hWSNKGxrMLtb"
      },
      "source": [
        "# convert model to tflite\r\n",
        "tflite_model = tf.keras.models.load_model('/content/drive/MyDrive/mushroom_project/mushrooms12_h5_pretrain_model/keras_pretrained_mushroom12_model.h5')\r\n",
        "\r\n",
        "converter = tf.lite.TFLiteConverter.from_keras_model(tflite_model)\r\n",
        "tflite_save = converter.convert()\r\n",
        "open(\"/content/drive/MyDrive/mushroom_project/mushrooms12_tflite_model/MushroomModel.tflite\", \"wb\").write(tflite_save)"
      ],
      "execution_count": null,
      "outputs": []
    },
    {
      "cell_type": "code",
      "metadata": {
        "id": "RqcI5fJ3MLvu"
      },
      "source": [
        "labels = ['Amanita_pantherina(Poisonous)', \r\n",
        "          'Amanita_phalloides(Poisonous)', \r\n",
        "          'Coltricia perennis(NoPoisonous)', \r\n",
        "          'Lactarius flavidulus_Imai(Poisonous)', \r\n",
        "          'Lentinula_edodes(NoPoisonous)', \r\n",
        "          'Psilocybe_cubensis(Poisonous)', \r\n",
        "          'Russula_emetica(Poisonous)', \r\n",
        "          'Termitomyces_fuliginosus(NoPoisonous)', \r\n",
        "          'Thaeogyroporus_porentosus(NoPoisonous)', \r\n",
        "          'Volvariella_volvacea(Poisonous)', \r\n",
        "          'chlorophyllum_molybdites(Poisonous)', \r\n",
        "          'hygroscopic_earthstar(NoPoisonous)']\r\n",
        "\r\n",
        "with open('labels.txt', 'w') as f:\r\n",
        "    f.write('\\n'.join(labels))"
      ],
      "execution_count": null,
      "outputs": []
    },
    {
      "cell_type": "code",
      "metadata": {
        "id": "hJWf1OUAMLyP"
      },
      "source": [
        "try:\r\n",
        "    from google.colab import files\r\n",
        "    files.download('/content/drive/MyDrive/mushroom_project/Complete_model/Tflite_model/mushrooms12_tflite_model/MushroomModel.tflite') #change\r\n",
        "    files.download('labels.txt')\r\n",
        "except:\r\n",
        "    pass"
      ],
      "execution_count": null,
      "outputs": []
    },
    {
      "cell_type": "code",
      "metadata": {
        "id": "Fgea1-YzML0n"
      },
      "source": [
        ""
      ],
      "execution_count": null,
      "outputs": []
    },
    {
      "cell_type": "code",
      "metadata": {
        "id": "-sFLE_RXML27"
      },
      "source": [
        ""
      ],
      "execution_count": null,
      "outputs": []
    }
  ]
}