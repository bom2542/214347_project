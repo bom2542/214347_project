{
  "nbformat": 4,
  "nbformat_minor": 0,
  "metadata": {
    "colab": {
      "name": "project.ipynb",
      "provenance": [],
      "authorship_tag": "ABX9TyPvyLi3PvMt1IPzKoBMvIBU",
      "include_colab_link": true
    },
    "kernelspec": {
      "name": "python3",
      "display_name": "Python 3"
    }
  },
  "cells": [
    {
      "cell_type": "markdown",
      "metadata": {
        "id": "view-in-github",
        "colab_type": "text"
      },
      "source": [
        "<a href=\"https://colab.research.google.com/github/bom2542/214347_project/blob/main/project.ipynb\" target=\"_parent\"><img src=\"https://colab.research.google.com/assets/colab-badge.svg\" alt=\"Open In Colab\"/></a>"
      ]
    },
    {
      "cell_type": "code",
      "metadata": {
        "id": "jaMFbAojcHuB",
        "colab": {
          "base_uri": "https://localhost:8080/"
        },
        "outputId": "f8b6dde6-fe9e-47dc-8477-30346b69aa6e"
      },
      "source": [
        "#21434756555555555555\r\n",
        "print(\"Hefjsdl\")"
      ],
      "execution_count": 4,
      "outputs": [
        {
          "output_type": "stream",
          "text": [
            "Hefjsdl\n"
          ],
          "name": "stdout"
        }
      ]
    }
  ]
}