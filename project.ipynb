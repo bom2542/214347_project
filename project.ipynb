{
  "nbformat": 4,
  "nbformat_minor": 0,
  "metadata": {
    "colab": {
      "name": "project.ipynb",
      "provenance": [],
      "include_colab_link": true
    },
    "kernelspec": {
      "name": "python3",
      "display_name": "Python 3"
    }
  },
  "cells": [
    {
      "cell_type": "markdown",
      "metadata": {
        "id": "view-in-github",
        "colab_type": "text"
      },
      "source": [
        "<a href=\"https://colab.research.google.com/github/bom2542/214347_project/blob/main/project.ipynb\" target=\"_parent\"><img src=\"https://colab.research.google.com/assets/colab-badge.svg\" alt=\"Open In Colab\"/></a>"
      ]
    },
    {
      "cell_type": "code",
      "metadata": {
        "id": "jaMFbAojcHuB",
        "colab": {
          "base_uri": "https://localhost:8080/"
        },
        "outputId": "7000d426-ceae-4eb1-bd80-a38065de893a"
      },
      "source": [
        "#21434756555555555555\r\n",
        "print(\"Hefjsdl\")\r\n",
        "print(\"Im na\")"
      ],
      "execution_count": 1,
      "outputs": [
        {
          "output_type": "stream",
          "text": [
            "Hefjsdl\n",
            "Im na\n"
          ],
          "name": "stdout"
        }
      ]
    }
  ]
}